{
 "cells": [
  {
   "cell_type": "code",
   "execution_count": 1,
   "id": "f982446a-8efe-43f9-a7d9-bb87269d3fea",
   "metadata": {
    "execution": {
     "iopub.execute_input": "2023-12-15T19:58:11.403312Z",
     "iopub.status.busy": "2023-12-15T19:58:11.402548Z",
     "iopub.status.idle": "2023-12-15T19:58:14.231521Z",
     "shell.execute_reply": "2023-12-15T19:58:14.230639Z"
    },
    "papermill": {
     "duration": 2.839259,
     "end_time": "2023-12-15T19:58:14.232908",
     "exception": false,
     "start_time": "2023-12-15T19:58:11.393649",
     "status": "completed"
    },
    "tags": []
   },
   "outputs": [],
   "source": [
    "import tensorflow as tf\n",
    "model = tf.keras.Sequential([\n",
    "    tf.keras.layers.Dense(8, input_shape=(4,), activation='relu'),\n",
    "    tf.keras.layers.Dense(16, activation='relu'),\n",
    "    tf.keras.layers.Dense(8, activation='relu'),\n",
    "    tf.keras.layers.Dense(3, activation='softmax')\n",
    "])\n",
    "model.compile(optimizer='adam', loss='sparse_categorical_crossentropy', metrics=['accuracy'])"
   ]
  },
  {
   "cell_type": "code",
   "execution_count": 2,
   "id": "32830b3f-3df2-48ec-a4d3-ad487e2fb9fb",
   "metadata": {
    "execution": {
     "iopub.execute_input": "2023-12-15T19:58:14.235453Z",
     "iopub.status.busy": "2023-12-15T19:58:14.235263Z",
     "iopub.status.idle": "2023-12-15T19:58:15.519061Z",
     "shell.execute_reply": "2023-12-15T19:58:15.518628Z"
    },
    "papermill": {
     "duration": 1.286116,
     "end_time": "2023-12-15T19:58:15.520134",
     "exception": false,
     "start_time": "2023-12-15T19:58:14.234018",
     "status": "completed"
    },
    "tags": []
   },
   "outputs": [],
   "source": [
    "import numpy as np\n",
    "\n",
    "X_train = np.load('data/iris/X_train.npy')\n",
    "X_test = np.load('data/iris/X_test.npy')\n",
    "y_train = np.load('data/iris/y_train.npy')\n",
    "y_test = np.load('data/iris/y_test.npy')\n",
    "\n",
    "history = model.fit(X_train, y_train, epochs=100, batch_size=10,validation_data=(X_test, y_test),verbose=0)"
   ]
  },
  {
   "cell_type": "code",
   "execution_count": 3,
   "id": "5e49fe92-3acc-448a-aadb-197cb70023fd",
   "metadata": {
    "execution": {
     "iopub.execute_input": "2023-12-15T19:58:15.522721Z",
     "iopub.status.busy": "2023-12-15T19:58:15.522515Z",
     "iopub.status.idle": "2023-12-15T19:58:15.578669Z",
     "shell.execute_reply": "2023-12-15T19:58:15.578325Z"
    },
    "papermill": {
     "duration": 0.058208,
     "end_time": "2023-12-15T19:58:15.579543",
     "exception": false,
     "start_time": "2023-12-15T19:58:15.521335",
     "status": "completed"
    },
    "tags": []
   },
   "outputs": [
    {
     "name": "stdout",
     "output_type": "stream",
     "text": [
      "\r",
      "1/1 [==============================] - ETA: 0s - loss: 0.0211 - accuracy: 1.0000"
     ]
    },
    {
     "name": "stdout",
     "output_type": "stream",
     "text": [
      "\b\b\b\b\b\b\b\b\b\b\b\b\b\b\b\b\b\b\b\b\b\b\b\b\b\b\b\b\b\b\b\b\b\b\b\b\b\b\b\b\b\b\b\b\b\b\b\b\b\b\b\b\b\b\b\b\b\b\b\b\b\b\b\b\b\b\b\b\b\b\b\b\b\b\b\b\b\b\b\b\r",
      "1/1 [==============================] - 0s 40ms/step - loss: 0.0211 - accuracy: 1.0000\n"
     ]
    }
   ],
   "source": [
    "test_loss, test_acc = model.evaluate(X_test, y_test)"
   ]
  },
  {
   "cell_type": "code",
   "execution_count": 4,
   "id": "5cd68fac-52b3-4f57-b1dd-1cb57287b99a",
   "metadata": {
    "execution": {
     "iopub.execute_input": "2023-12-15T19:58:15.581533Z",
     "iopub.status.busy": "2023-12-15T19:58:15.581436Z",
     "iopub.status.idle": "2023-12-15T19:58:15.592390Z",
     "shell.execute_reply": "2023-12-15T19:58:15.592153Z"
    },
    "papermill": {
     "duration": 0.012734,
     "end_time": "2023-12-15T19:58:15.593115",
     "exception": false,
     "start_time": "2023-12-15T19:58:15.580381",
     "status": "completed"
    },
    "tags": []
   },
   "outputs": [
    {
     "name": "stdout",
     "output_type": "stream",
     "text": [
      "<keras.src.callbacks.History object at 0x1770c3590>\n"
     ]
    }
   ],
   "source": [
    "import pickle\n",
    "print(history)\n",
    "# Save the history object to a file\n",
    "with open('history.pkl', 'wb') as f:\n",
    "    pickle.dump(history, f)\n"
   ]
  },
  {
   "cell_type": "code",
   "execution_count": null,
   "id": "c2e936b8-0d8f-4aa2-a38d-ad0a71e881d7",
   "metadata": {
    "papermill": {
     "duration": 0.000986,
     "end_time": "2023-12-15T19:58:15.594909",
     "exception": false,
     "start_time": "2023-12-15T19:58:15.593923",
     "status": "completed"
    },
    "tags": []
   },
   "outputs": [],
   "source": []
  }
 ],
 "metadata": {
  "kernelspec": {
   "display_name": "Python 3 (ipykernel)",
   "language": "python",
   "name": "python3"
  },
  "language_info": {
   "codemirror_mode": {
    "name": "ipython",
    "version": 3
   },
   "file_extension": ".py",
   "mimetype": "text/x-python",
   "name": "python",
   "nbconvert_exporter": "python",
   "pygments_lexer": "ipython3",
   "version": "3.11.6"
  },
  "papermill": {
   "default_parameters": {},
   "duration": 5.188732,
   "end_time": "2023-12-15T19:58:16.014116",
   "environment_variables": {},
   "exception": null,
   "input_path": "/Users/swerwe/Desktop/ML/iris/create_model.ipynb",
   "output_path": "/Users/swerwe/Desktop/ML/iris/create_model.ipynb",
   "parameters": {},
   "start_time": "2023-12-15T19:58:10.825384",
   "version": "2.5.0"
  }
 },
 "nbformat": 4,
 "nbformat_minor": 5
}
{
 "cells": [
  {
   "cell_type": "code",
   "execution_count": 1,
   "id": "ffb8c342-08e3-49e3-af57-d936a76ddb70",
   "metadata": {
    "execution": {
     "iopub.execute_input": "2023-12-15T19:58:07.667751Z",
     "iopub.status.busy": "2023-12-15T19:58:07.667327Z",
     "iopub.status.idle": "2023-12-15T19:58:08.181834Z",
     "shell.execute_reply": "2023-12-15T19:58:08.181470Z"
    },
    "papermill": {
     "duration": 0.523454,
     "end_time": "2023-12-15T19:58:08.182822",
     "exception": false,
     "start_time": "2023-12-15T19:58:07.659368",
     "status": "completed"
    },
    "tags": []
   },
   "outputs": [],
   "source": [
    "import pandas as pd\n",
    "from sklearn.linear_model import LogisticRegression \n",
    "from sklearn.neighbors import KNeighborsClassifier \n",
    "from sklearn import svm \n",
    "from sklearn import metrics\n",
    "from sklearn.tree import DecisionTreeClassifier"
   ]
  },
  {
   "cell_type": "code",
   "execution_count": 2,
   "id": "3b469ff6-b48b-4eac-a0c3-e02602e8f5d1",
   "metadata": {
    "execution": {
     "iopub.execute_input": "2023-12-15T19:58:08.184839Z",
     "iopub.status.busy": "2023-12-15T19:58:08.184700Z",
     "iopub.status.idle": "2023-12-15T19:58:08.187907Z",
     "shell.execute_reply": "2023-12-15T19:58:08.187669Z"
    },
    "papermill": {
     "duration": 0.005131,
     "end_time": "2023-12-15T19:58:08.188670",
     "exception": false,
     "start_time": "2023-12-15T19:58:08.183539",
     "status": "completed"
    },
    "tags": []
   },
   "outputs": [],
   "source": [
    "data = pd.read_csv('data/iris/Iris.csv')\n",
    "data = data.drop('Id', axis=1, errors='ignore')"
   ]
  },
  {
   "cell_type": "code",
   "execution_count": 3,
   "id": "574a0483-141b-45f9-925e-1d932619be90",
   "metadata": {
    "execution": {
     "iopub.execute_input": "2023-12-15T19:58:08.190064Z",
     "iopub.status.busy": "2023-12-15T19:58:08.189981Z",
     "iopub.status.idle": "2023-12-15T19:58:08.192461Z",
     "shell.execute_reply": "2023-12-15T19:58:08.192276Z"
    },
    "papermill": {
     "duration": 0.004013,
     "end_time": "2023-12-15T19:58:08.193193",
     "exception": false,
     "start_time": "2023-12-15T19:58:08.189180",
     "status": "completed"
    },
    "tags": []
   },
   "outputs": [],
   "source": [
    "data.to_csv('data/iris/processed_iris.csv', index=False)\n"
   ]
  },
  {
   "cell_type": "code",
   "execution_count": null,
   "id": "42f1bce2-a83d-47e0-bfa0-9843e1fdea9c",
   "metadata": {
    "papermill": {
     "duration": 0.000491,
     "end_time": "2023-12-15T19:58:08.194211",
     "exception": false,
     "start_time": "2023-12-15T19:58:08.193720",
     "status": "completed"
    },
    "tags": []
   },
   "outputs": [],
   "source": []
  }
 ],
 "metadata": {
  "kernelspec": {
   "display_name": "Python 3 (ipykernel)",
   "language": "python",
   "name": "python3"
  },
  "language_info": {
   "codemirror_mode": {
    "name": "ipython",
    "version": 3
   },
   "file_extension": ".py",
   "mimetype": "text/x-python",
   "name": "python",
   "nbconvert_exporter": "python",
   "pygments_lexer": "ipython3",
   "version": "3.11.6"
  },
  "papermill": {
   "default_parameters": {},
   "duration": 1.457073,
   "end_time": "2023-12-15T19:58:08.410764",
   "environment_variables": {},
   "exception": null,
   "input_path": "/Users/swerwe/Desktop/ML/iris/load_data.ipynb",
   "output_path": "/Users/swerwe/Desktop/ML/iris/load_data.ipynb",
   "parameters": {},
   "start_time": "2023-12-15T19:58:06.953691",
   "version": "2.5.0"
  }
 },
 "nbformat": 4,
 "nbformat_minor": 5
}
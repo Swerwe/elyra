{
 "cells": [
  {
   "cell_type": "code",
   "execution_count": 1,
   "id": "35f3a23f-ea87-48e6-b37a-23f11166aa14",
   "metadata": {
    "execution": {
     "iopub.execute_input": "2023-12-15T19:58:10.354508Z",
     "iopub.status.busy": "2023-12-15T19:58:10.353890Z",
     "iopub.status.idle": "2023-12-15T19:58:10.701255Z",
     "shell.execute_reply": "2023-12-15T19:58:10.700895Z"
    },
    "papermill": {
     "duration": 0.354277,
     "end_time": "2023-12-15T19:58:10.702278",
     "exception": false,
     "start_time": "2023-12-15T19:58:10.348001",
     "status": "completed"
    },
    "tags": []
   },
   "outputs": [],
   "source": [
    "import numpy as np\n",
    "from sklearn.model_selection import train_test_split \n",
    "X = np.load('data/iris/X.npy')\n",
    "y = np.load('data/iris/y.npy')\n",
    "from sklearn.preprocessing import StandardScaler, LabelEncoder\n",
    "X_train, X_test, y_train, y_test = train_test_split(X, y, test_size=0.2, random_state=42)\n",
    "scaler = StandardScaler()\n",
    "X_train = scaler.fit_transform(X_train)\n",
    "X_test = scaler.transform(X_test)\n"
   ]
  },
  {
   "cell_type": "code",
   "execution_count": 2,
   "id": "ed40434e-d8d4-44f4-878c-bd60e8587b36",
   "metadata": {
    "execution": {
     "iopub.execute_input": "2023-12-15T19:58:10.704060Z",
     "iopub.status.busy": "2023-12-15T19:58:10.703922Z",
     "iopub.status.idle": "2023-12-15T19:58:10.706324Z",
     "shell.execute_reply": "2023-12-15T19:58:10.706015Z"
    },
    "papermill": {
     "duration": 0.004077,
     "end_time": "2023-12-15T19:58:10.707038",
     "exception": false,
     "start_time": "2023-12-15T19:58:10.702961",
     "status": "completed"
    },
    "tags": []
   },
   "outputs": [],
   "source": [
    "np.save('data/iris/X_train.npy', X_train)\n",
    "np.save('data/iris/X_test.npy', X_test)\n",
    "np.save('data/iris/y_train.npy', y_train)\n",
    "np.save('data/iris/y_test.npy', y_test)\n",
    "\n"
   ]
  },
  {
   "cell_type": "code",
   "execution_count": null,
   "id": "c362902e-9124-46d4-8157-2f70183e52d6",
   "metadata": {
    "papermill": {
     "duration": 0.000446,
     "end_time": "2023-12-15T19:58:10.707976",
     "exception": false,
     "start_time": "2023-12-15T19:58:10.707530",
     "status": "completed"
    },
    "tags": []
   },
   "outputs": [],
   "source": []
  }
 ],
 "metadata": {
  "kernelspec": {
   "display_name": "Python 3 (ipykernel)",
   "language": "python",
   "name": "python3"
  },
  "language_info": {
   "codemirror_mode": {
    "name": "ipython",
    "version": 3
   },
   "file_extension": ".py",
   "mimetype": "text/x-python",
   "name": "python",
   "nbconvert_exporter": "python",
   "pygments_lexer": "ipython3",
   "version": "3.11.6"
  },
  "papermill": {
   "default_parameters": {},
   "duration": 0.976488,
   "end_time": "2023-12-15T19:58:10.823363",
   "environment_variables": {},
   "exception": null,
   "input_path": "/Users/swerwe/Desktop/ML/iris/train_test_split.ipynb",
   "output_path": "/Users/swerwe/Desktop/ML/iris/train_test_split.ipynb",
   "parameters": {},
   "start_time": "2023-12-15T19:58:09.846875",
   "version": "2.5.0"
  }
 },
 "nbformat": 4,
 "nbformat_minor": 5
}
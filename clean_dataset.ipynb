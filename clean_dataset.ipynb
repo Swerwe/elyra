{
 "cells": [
  {
   "cell_type": "code",
   "execution_count": 1,
   "id": "0797142d-1b9a-45b5-a9a0-f5379a951c4c",
   "metadata": {
    "execution": {
     "iopub.execute_input": "2023-12-15T19:58:09.147660Z",
     "iopub.status.busy": "2023-12-15T19:58:09.147310Z",
     "iopub.status.idle": "2023-12-15T19:58:09.617159Z",
     "shell.execute_reply": "2023-12-15T19:58:09.616890Z"
    },
    "papermill": {
     "duration": 0.477126,
     "end_time": "2023-12-15T19:58:09.618188",
     "exception": false,
     "start_time": "2023-12-15T19:58:09.141062",
     "status": "completed"
    },
    "tags": []
   },
   "outputs": [],
   "source": [
    "from sklearn.preprocessing import StandardScaler, LabelEncoder\n",
    "import pandas as pd\n",
    "\n",
    "data = pd.read_csv('data/iris/processed_iris.csv')\n",
    "\n",
    "\n",
    "encoder = LabelEncoder()\n",
    "# Кодируем вид ириса\n",
    "data['Species'] = encoder.fit_transform(data['Species'])\n",
    "data.to_csv('data/iris/processed_iris.csv', index=False)"
   ]
  },
  {
   "cell_type": "code",
   "execution_count": 2,
   "id": "8aac616d-3653-4a96-b8c9-eb0d6cdaf17a",
   "metadata": {
    "execution": {
     "iopub.execute_input": "2023-12-15T19:58:09.620113Z",
     "iopub.status.busy": "2023-12-15T19:58:09.620004Z",
     "iopub.status.idle": "2023-12-15T19:58:09.621751Z",
     "shell.execute_reply": "2023-12-15T19:58:09.621542Z"
    },
    "papermill": {
     "duration": 0.003583,
     "end_time": "2023-12-15T19:58:09.622539",
     "exception": false,
     "start_time": "2023-12-15T19:58:09.618956",
     "status": "completed"
    },
    "tags": []
   },
   "outputs": [],
   "source": [
    "# Разделяем датасет на features и target\n",
    "X = data.iloc[:, :-1].values\n",
    "y = data.iloc[:, -1].values\n"
   ]
  },
  {
   "cell_type": "code",
   "execution_count": 3,
   "id": "bb59dc29-435a-40d9-a980-55224c7fdaf1",
   "metadata": {
    "execution": {
     "iopub.execute_input": "2023-12-15T19:58:09.624045Z",
     "iopub.status.busy": "2023-12-15T19:58:09.623959Z",
     "iopub.status.idle": "2023-12-15T19:58:09.625739Z",
     "shell.execute_reply": "2023-12-15T19:58:09.625552Z"
    },
    "papermill": {
     "duration": 0.003329,
     "end_time": "2023-12-15T19:58:09.626458",
     "exception": false,
     "start_time": "2023-12-15T19:58:09.623129",
     "status": "completed"
    },
    "tags": []
   },
   "outputs": [],
   "source": [
    "\n",
    "import numpy as np\n",
    "np.save('data/iris/X.npy', X)\n",
    "np.save('data/iris/y.npy', y)\n"
   ]
  },
  {
   "cell_type": "code",
   "execution_count": null,
   "id": "3244a11e-69b5-43dc-8236-3e629e18e9aa",
   "metadata": {
    "papermill": {
     "duration": 0.000494,
     "end_time": "2023-12-15T19:58:09.627445",
     "exception": false,
     "start_time": "2023-12-15T19:58:09.626951",
     "status": "completed"
    },
    "tags": []
   },
   "outputs": [],
   "source": []
  }
 ],
 "metadata": {
  "kernelspec": {
   "display_name": "Python 3 (ipykernel)",
   "language": "python",
   "name": "python3"
  },
  "language_info": {
   "codemirror_mode": {
    "name": "ipython",
    "version": 3
   },
   "file_extension": ".py",
   "mimetype": "text/x-python",
   "name": "python",
   "nbconvert_exporter": "python",
   "pygments_lexer": "ipython3",
   "version": "3.11.6"
  },
  "papermill": {
   "default_parameters": {},
   "duration": 1.42926,
   "end_time": "2023-12-15T19:58:09.843262",
   "environment_variables": {},
   "exception": null,
   "input_path": "/Users/swerwe/Desktop/ML/iris/clean_dataset.ipynb",
   "output_path": "/Users/swerwe/Desktop/ML/iris/clean_dataset.ipynb",
   "parameters": {},
   "start_time": "2023-12-15T19:58:08.414002",
   "version": "2.5.0"
  }
 },
 "nbformat": 4,
 "nbformat_minor": 5
}